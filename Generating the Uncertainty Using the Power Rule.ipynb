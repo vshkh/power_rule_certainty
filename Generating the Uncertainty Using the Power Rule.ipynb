{
 "cells": [
  {
   "cell_type": "markdown",
   "id": "5574224f",
   "metadata": {},
   "source": [
    "# Setup"
   ]
  },
  {
   "cell_type": "markdown",
   "id": "8a12ef9e",
   "metadata": {},
   "source": [
    "Here, we're going to start by importing math. The first edition of the program isn't solving for uncertainty yet, but it's for future functionality."
   ]
  },
  {
   "cell_type": "code",
   "execution_count": 1,
   "id": "36e33329",
   "metadata": {},
   "outputs": [],
   "source": [
    "import math"
   ]
  },
  {
   "cell_type": "markdown",
   "id": "e927c6ad",
   "metadata": {},
   "source": [
    "Next, we're going to create four lists to store our values. Why a list? Because its easier to access the data based on its position. Everything correlates to the position of the variables listed in variable_names. These lists are the following:\n",
    "\n",
    "variable_names, which stores the letter of the variable (e.g. m, a, a_alpha)\n",
    "variable_vals, which stores the values of the variables (does not store the unit)\n",
    "variables_uncs, which stores the uncertainties of the variables\n",
    "variables_expos, which stores the exponents per variables. "
   ]
  },
  {
   "cell_type": "code",
   "execution_count": 2,
   "id": "1ff6e8e6",
   "metadata": {},
   "outputs": [],
   "source": [
    "variables_names = [] # Variables\n",
    "variables_vals  = [] # Values\n",
    "variables_uncs  = [] # Uncertainties\n",
    "variables_expos = [] # Exponents"
   ]
  },
  {
   "cell_type": "markdown",
   "id": "052bbe8e",
   "metadata": {},
   "source": [
    "Now, it's up to the user to add their desired values into the program. Here, we use an input to give them the ability to add as they please."
   ]
  },
  {
   "cell_type": "markdown",
   "id": "d487eeef",
   "metadata": {},
   "source": [
    "# Inputs"
   ]
  },
  {
   "cell_type": "code",
   "execution_count": 3,
   "id": "7c97feb6",
   "metadata": {},
   "outputs": [
    {
     "name": "stdout",
     "output_type": "stream",
     "text": [
      "What variable are you trying to solve for? F\n",
      "How many variables are you trying to input? 2\n"
     ]
    }
   ],
   "source": [
    "initVar  = input(\"What variable are you trying to solve for? \")\n",
    "varCount = int(input(\"How many variables are you trying to input? \"))"
   ]
  },
  {
   "cell_type": "markdown",
   "id": "eadb0a61",
   "metadata": {},
   "source": [
    "Now, the user is prompted to write down the variables, which is based on the amount they listed in the prompt above. Right now, the functionality only extends to generating a Latex function, but in the future, the plan is to have it take in values and uncertainties to calculate."
   ]
  },
  {
   "cell_type": "code",
   "execution_count": 4,
   "id": "2a8f5889",
   "metadata": {},
   "outputs": [
    {
     "name": "stdout",
     "output_type": "stream",
     "text": [
      "List out the constants in the function (in decimal form): 1\n"
     ]
    }
   ],
   "source": [
    "constants = float(input(\"List out the constants in the function (in decimal form): \"))"
   ]
  },
  {
   "cell_type": "code",
   "execution_count": 5,
   "id": "6cbcc9ee",
   "metadata": {},
   "outputs": [
    {
     "name": "stdout",
     "output_type": "stream",
     "text": [
      "What is your variable? m\n",
      "What does it equal? 2\n",
      "What is its uncertainty? 0.1\n",
      "What is its exponent (in decimal form?) 1\n",
      "What is your variable? a\n",
      "What does it equal? 3\n",
      "What is its uncertainty? 0.05\n",
      "What is its exponent (in decimal form?) 1\n"
     ]
    }
   ],
   "source": [
    "for count in range(varCount):\n",
    "    varName = input(\"What is your variable? \")\n",
    "    variables_names.append(varName)\n",
    "    varVal  = float(input(\"What does it equal? \"))\n",
    "    variables_vals.append(varVal)\n",
    "    varUnc  = float(input(\"What is its uncertainty? \"))\n",
    "    variables_uncs.append(varUnc)\n",
    "    varExpo = float(input(\"What is its exponent (in decimal form?) \"))\n",
    "    variables_expos.append(varExpo)"
   ]
  },
  {
   "cell_type": "markdown",
   "id": "e6ce0976",
   "metadata": {},
   "source": [
    "# Calculations"
   ]
  },
  {
   "cell_type": "markdown",
   "id": "7c090fc8",
   "metadata": {},
   "source": [
    "Below is the first step, where it calculates the variable you're solving for. It uses this value to multiply itself to the uncertainty in future steps. By separating the constants from the variables, it multiplies the variable by its exponent using a loop, which adds to the variable, and finally multiplies the constant at the end."
   ]
  },
  {
   "cell_type": "code",
   "execution_count": 6,
   "id": "4ced6f13",
   "metadata": {},
   "outputs": [
    {
     "name": "stdout",
     "output_type": "stream",
     "text": [
      "The value of the variable you're solving for is 6.0\n"
     ]
    }
   ],
   "source": [
    "solve_var = 1\n",
    "for count in range(varCount):\n",
    "    solve_var *= variables_vals[count]**variables_expos[count]\n",
    "solve_var *= constants"
   ]
  },
  {
   "cell_type": "markdown",
   "id": "e5b1e706",
   "metadata": {},
   "source": [
    "Now, it's time to calculate the uncertainty."
   ]
  },
  {
   "cell_type": "code",
   "execution_count": 13,
   "id": "aab56d07",
   "metadata": {},
   "outputs": [
    {
     "name": "stdout",
     "output_type": "stream",
     "text": [
      "The uncertainty of the variable you're solving for is 0.316227766016838\n"
     ]
    }
   ],
   "source": [
    "solve_unc = 0\n",
    "for count in range(varCount):\n",
    "    solve_unc += ( (variables_expos[count] * variables_uncs[count]) / (variables_vals[count]) )**2\n",
    "solve_unc = math.sqrt(solve_unc)\n",
    "solve_unc *= math.fabs(solve_var)"
   ]
  },
  {
   "cell_type": "code",
   "execution_count": 14,
   "id": "960a0f73",
   "metadata": {},
   "outputs": [],
   "source": [
    "latexEquation = \"\""
   ]
  },
  {
   "cell_type": "code",
   "execution_count": 15,
   "id": "ef3b0a6d",
   "metadata": {},
   "outputs": [
    {
     "name": "stdout",
     "output_type": "stream",
     "text": [
      "\\delta F = F \\cdot \n"
     ]
    }
   ],
   "source": [
    "latexEquation += (\"\\delta \" + initVar + \" = \" + initVar + \" \\cdot \")"
   ]
  },
  {
   "cell_type": "markdown",
   "id": "47298bbf",
   "metadata": {},
   "source": [
    "Here is where the code runs another loop to continue adding to a variable to store the Latex equation. What's repetitive about the power rule is the fractions within it, so we can put the squareroot opening and closing on the outside of the loop. Within the loop, it handles the fractions squared, and will add a plus sign (+) until it knows its about to end the loop."
   ]
  },
  {
   "cell_type": "code",
   "execution_count": 16,
   "id": "93bd9d9a",
   "metadata": {},
   "outputs": [],
   "source": [
    "latexEquation += \"\\\\sqrt{\"\n",
    "for count in range(varCount):\n",
    "    latexEquation += \"(\\\\frac{\"\n",
    "    latexEquation += str(variables_expos[count]) + \" \\cdot \\delta \" + variables_names[count]\n",
    "    latexEquation += \"}{\"\n",
    "    latexEquation += variables_names[count]\n",
    "    latexEquation += \"})^{2}\"\n",
    "    if count != varCount - 1:\n",
    "        latexEquation += \"+\"\n",
    "latexEquation += \"}\""
   ]
  },
  {
   "cell_type": "markdown",
   "id": "cbed4ae3",
   "metadata": {},
   "source": [
    "# Outputs"
   ]
  },
  {
   "cell_type": "code",
   "execution_count": 20,
   "id": "7c48f385",
   "metadata": {},
   "outputs": [
    {
     "name": "stdout",
     "output_type": "stream",
     "text": [
      "For the value of F, it's value is 6.0 with an uncertainty of 0.32\n"
     ]
    }
   ],
   "source": [
    "print(\"For the value of \" + initVar + \", it's value is \" + str(solve_var) + \" with an uncertainty of \" + str(round(solve_unc, 2)))"
   ]
  },
  {
   "cell_type": "code",
   "execution_count": 21,
   "id": "a7014625",
   "metadata": {},
   "outputs": [
    {
     "name": "stdout",
     "output_type": "stream",
     "text": [
      "\\delta F = F \\cdot \\sqrt{(\\frac{1.0 \\cdot \\delta m}{m})^{2}+(\\frac{1.0 \\cdot \\delta a}{a})^{2}}\n"
     ]
    }
   ],
   "source": [
    "print(latexEquation)"
   ]
  }
 ],
 "metadata": {
  "kernelspec": {
   "display_name": "Python 3 (ipykernel)",
   "language": "python",
   "name": "python3"
  },
  "language_info": {
   "codemirror_mode": {
    "name": "ipython",
    "version": 3
   },
   "file_extension": ".py",
   "mimetype": "text/x-python",
   "name": "python",
   "nbconvert_exporter": "python",
   "pygments_lexer": "ipython3",
   "version": "3.9.6"
  }
 },
 "nbformat": 4,
 "nbformat_minor": 5
}
